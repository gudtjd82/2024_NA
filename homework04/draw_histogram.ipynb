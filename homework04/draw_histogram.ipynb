{
 "cells": [
  {
   "cell_type": "code",
   "execution_count": null,
   "metadata": {},
   "outputs": [],
   "source": [
    "import matplotlib.pyplot as plt\n",
    "import numpy as np"
   ]
  },
  {
   "cell_type": "code",
   "execution_count": null,
   "metadata": {},
   "outputs": [],
   "source": [
    "def draw_histogram(data, title):\n",
    "    plt.hist(data, bins=100)\n",
    "    plt.xlabel('Value')\n",
    "    plt.ylabel('Frequency')\n",
    "    plt.title(title)"
   ]
  },
  {
   "cell_type": "code",
   "execution_count": null,
   "metadata": {},
   "outputs": [],
   "source": [
    "# Load data files\n",
    "uniform_data_1 = np.loadtxt(\"./uniform_nums_1.txt\")\n",
    "uniform_data_2 = np.loadtxt(\"./uniform_nums_2.txt\")\n",
    "uniform_data_3 = np.loadtxt(\"./uniform_nums_3.txt\")\n",
    "uniform_data_4 = np.loadtxt(\"./uniform_nums_4.txt\")\n",
    "\n",
    "gaussian_data_1 = np.loadtxt(\"./gaussian_nums_1.txt\")\n",
    "gaussian_data_2 = np.loadtxt(\"./gaussian_nums_2.txt\")\n",
    "gaussian_data_3 = np.loadtxt(\"./gaussian_nums_3.txt\")\n",
    "gaussian_data_4 = np.loadtxt(\"./gaussian_nums_4.txt\")"
   ]
  },
  {
   "cell_type": "markdown",
   "metadata": {},
   "source": [
    "# Uniform distribution random numbers"
   ]
  },
  {
   "cell_type": "markdown",
   "metadata": {},
   "source": [
    "## Num of Samples = 100"
   ]
  },
  {
   "cell_type": "code",
   "execution_count": null,
   "metadata": {},
   "outputs": [],
   "source": [
    "title = 'Uniform distribution random numbers (100 Samples)'\n",
    "draw_histogram(uniform_data_1, title)"
   ]
  },
  {
   "cell_type": "markdown",
   "metadata": {},
   "source": [
    "## Num of Samples = 1000"
   ]
  },
  {
   "cell_type": "code",
   "execution_count": null,
   "metadata": {},
   "outputs": [],
   "source": [
    "title = 'Uniform distribution random numbers (1000 Samples)'\n",
    "draw_histogram(uniform_data_2, title)"
   ]
  },
  {
   "cell_type": "markdown",
   "metadata": {},
   "source": [
    "## Num of Samples = 10000"
   ]
  },
  {
   "cell_type": "code",
   "execution_count": null,
   "metadata": {},
   "outputs": [],
   "source": [
    "title = 'Uniform distribution random numbers (10000 Samples)'\n",
    "draw_histogram(uniform_data_3, title)"
   ]
  },
  {
   "cell_type": "markdown",
   "metadata": {},
   "source": [
    "## Num of Samples = 100000"
   ]
  },
  {
   "cell_type": "code",
   "execution_count": null,
   "metadata": {},
   "outputs": [],
   "source": [
    "title = 'Uniform distribution random numbers (100000 Samples)'\n",
    "draw_histogram(uniform_data_4, title)"
   ]
  },
  {
   "cell_type": "markdown",
   "metadata": {},
   "source": [
    "# Gaussian distribution random numbers"
   ]
  },
  {
   "cell_type": "markdown",
   "metadata": {},
   "source": [
    "## Num of Samples = 100"
   ]
  },
  {
   "cell_type": "code",
   "execution_count": null,
   "metadata": {},
   "outputs": [],
   "source": [
    "title = 'Gaussian distribution random numbers (100 Samples)'\n",
    "draw_histogram(gaussian_data_1, title)"
   ]
  },
  {
   "cell_type": "markdown",
   "metadata": {},
   "source": [
    "## Num of Samples = 1000"
   ]
  },
  {
   "cell_type": "code",
   "execution_count": null,
   "metadata": {},
   "outputs": [],
   "source": [
    "title = 'Gaussian distribution random numbers (1000 Samples)'\n",
    "draw_histogram(gaussian_data_2, title)"
   ]
  },
  {
   "cell_type": "markdown",
   "metadata": {},
   "source": [
    "## Num of Samples = 10000"
   ]
  },
  {
   "cell_type": "code",
   "execution_count": null,
   "metadata": {},
   "outputs": [],
   "source": [
    "title = 'Gaussian distribution random numbers (10000 Samples)'\n",
    "draw_histogram(gaussian_data_3, title)"
   ]
  },
  {
   "cell_type": "markdown",
   "metadata": {},
   "source": [
    "## Num of Samples = 100000"
   ]
  },
  {
   "cell_type": "code",
   "execution_count": null,
   "metadata": {},
   "outputs": [],
   "source": [
    "title = 'Gaussian distribution random numbers (100000 Samples)'\n",
    "draw_histogram(gaussian_data_4, title)"
   ]
  }
 ],
 "metadata": {
  "kernelspec": {
   "display_name": "torch-gpu",
   "language": "python",
   "name": "python3"
  },
  "language_info": {
   "codemirror_mode": {
    "name": "ipython",
    "version": 3
   },
   "file_extension": ".py",
   "mimetype": "text/x-python",
   "name": "python",
   "nbconvert_exporter": "python",
   "pygments_lexer": "ipython3",
   "version": "3.12.2"
  },
  "orig_nbformat": 4
 },
 "nbformat": 4,
 "nbformat_minor": 2
}
